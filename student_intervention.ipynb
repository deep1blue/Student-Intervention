{
 "cells": [
  {
   "cell_type": "markdown",
   "metadata": {},
   "source": [
    "# Project 2: Supervised Learning\n",
    "### Building a Student Intervention System"
   ]
  },
  {
   "cell_type": "markdown",
   "metadata": {},
   "source": [
    "## 1. Classification vs Regression\n",
    "\n",
    "Your goal is to identify students who might need early intervention - which type of supervised machine learning problem is this, classification or regression? Why?\n",
    "\n",
    "Answer: This is a classification problem since the output can be modeled as a categorical binary variable with 1 as student needs intervention and 0 if they don't."
   ]
  },
  {
   "cell_type": "markdown",
   "metadata": {},
   "source": [
    "## 2. Exploring the Data\n",
    "\n",
    "Let's go ahead and read in the student dataset first.\n",
    "\n",
    "_To execute a code cell, click inside it and press **Shift+Enter**._"
   ]
  },
  {
   "cell_type": "code",
   "execution_count": 85,
   "metadata": {
    "collapsed": false
   },
   "outputs": [],
   "source": [
    "# Import libraries\n",
    "import numpy as np\n",
    "import pandas as pd"
   ]
  },
  {
   "cell_type": "code",
   "execution_count": 86,
   "metadata": {
    "collapsed": false
   },
   "outputs": [
    {
     "name": "stdout",
     "output_type": "stream",
     "text": [
      "Student data read successfully!\n"
     ]
    }
   ],
   "source": [
    "# Read student data\n",
    "student_data = pd.read_csv(\"student-data.csv\")\n",
    "print (\"Student data read successfully!\")\n",
    "# Note: The last column 'passed' is the target/label, all other are feature columns"
   ]
  },
  {
   "cell_type": "markdown",
   "metadata": {},
   "source": [
    "Now, can you find out the following facts about the dataset?\n",
    "- Total number of students\n",
    "- Number of students who passed\n",
    "- Number of students who failed\n",
    "- Graduation rate of the class (%)\n",
    "- Number of features\n",
    "\n",
    "_Use the code block below to compute these values. Instructions/steps are marked using **TODO**s._"
   ]
  },
  {
   "cell_type": "code",
   "execution_count": 87,
   "metadata": {
    "collapsed": false
   },
   "outputs": [
    {
     "name": "stdout",
     "output_type": "stream",
     "text": [
      "Total number of students: 395\n",
      "Number of students who passed: 265\n",
      "Number of students who failed: 130\n",
      "Number of features: 30\n",
      "Graduation rate of the class: 67.09%\n"
     ]
    }
   ],
   "source": [
    "# TODO: Compute desired values - replace each '?' with an appropriate expression/function call\n",
    "n_students = len(student_data)\n",
    "n_features = len(student_data.columns)-1\n",
    "n_passed = len(student_data.passed[student_data.passed=='yes'])\n",
    "n_failed = len(student_data.passed[student_data.passed=='no'])\n",
    "grad_rate = n_passed/n_students * 100\n",
    "print (\"Total number of students: {}\".format(n_students))\n",
    "print (\"Number of students who passed: {}\".format(n_passed))\n",
    "print (\"Number of students who failed: {}\".format(n_failed))\n",
    "print (\"Number of features: {}\".format(n_features))\n",
    "print (\"Graduation rate of the class: {:.2f}%\".format(grad_rate))"
   ]
  },
  {
   "cell_type": "markdown",
   "metadata": {},
   "source": [
    "## 3. Preparing the Data\n",
    "In this section, we will prepare the data for modeling, training and testing.\n",
    "\n",
    "### Identify feature and target columns\n",
    "It is often the case that the data you obtain contains non-numeric features. This can be a problem, as most machine learning algorithms expect numeric data to perform computations with.\n",
    "\n",
    "Let's first separate our data into feature and target columns, and see if any features are non-numeric.<br/>\n",
    "**Note**: For this dataset, the last column (`'passed'`) is the target or label we are trying to predict."
   ]
  },
  {
   "cell_type": "code",
   "execution_count": 88,
   "metadata": {
    "collapsed": false
   },
   "outputs": [
    {
     "name": "stdout",
     "output_type": "stream",
     "text": [
      "Feature column(s):-\n",
      "['school', 'sex', 'age', 'address', 'famsize', 'Pstatus', 'Medu', 'Fedu', 'Mjob', 'Fjob', 'reason', 'guardian', 'traveltime', 'studytime', 'failures', 'schoolsup', 'famsup', 'paid', 'activities', 'nursery', 'higher', 'internet', 'romantic', 'famrel', 'freetime', 'goout', 'Dalc', 'Walc', 'health', 'absences']\n",
      "Target column: passed\n",
      "\n",
      "Feature values:-\n",
      "  school sex  age address famsize Pstatus  Medu  Fedu     Mjob      Fjob  \\\n",
      "0     GP   F   18       U     GT3       A     4     4  at_home   teacher   \n",
      "1     GP   F   17       U     GT3       T     1     1  at_home     other   \n",
      "2     GP   F   15       U     LE3       T     1     1  at_home     other   \n",
      "3     GP   F   15       U     GT3       T     4     2   health  services   \n",
      "4     GP   F   16       U     GT3       T     3     3    other     other   \n",
      "\n",
      "    ...    higher internet  romantic  famrel  freetime goout Dalc Walc health  \\\n",
      "0   ...       yes       no        no       4         3     4    1    1      3   \n",
      "1   ...       yes      yes        no       5         3     3    1    1      3   \n",
      "2   ...       yes      yes        no       4         3     2    2    3      3   \n",
      "3   ...       yes      yes       yes       3         2     2    1    1      5   \n",
      "4   ...       yes       no        no       4         3     2    1    2      5   \n",
      "\n",
      "  absences  \n",
      "0        6  \n",
      "1        4  \n",
      "2       10  \n",
      "3        2  \n",
      "4        4  \n",
      "\n",
      "[5 rows x 30 columns]\n"
     ]
    }
   ],
   "source": [
    "# Extract feature (X) and target (y) columns\n",
    "feature_cols = list(student_data.columns[:-1])  # all columns but last are features\n",
    "target_col = student_data.columns[-1]  # last column is the target/label\n",
    "print (\"Feature column(s):-\\n{}\".format(feature_cols))\n",
    "print (\"Target column: {}\".format(target_col))\n",
    "\n",
    "X_all = student_data[feature_cols]  # feature values for all students\n",
    "y_all = student_data[target_col]  # corresponding targets/labels\n",
    "print (\"\\nFeature values:-\")\n",
    "print (X_all.head())  # print the first 5 rows"
   ]
  },
  {
   "cell_type": "markdown",
   "metadata": {},
   "source": [
    "### Preprocess feature columns\n",
    "\n",
    "As you can see, there are several non-numeric columns that need to be converted! Many of them are simply `yes`/`no`, e.g. `internet`. These can be reasonably converted into `1`/`0` (binary) values.\n",
    "\n",
    "Other columns, like `Mjob` and `Fjob`, have more than two values, and are known as _categorical variables_. The recommended way to handle such a column is to create as many columns as possible values (e.g. `Fjob_teacher`, `Fjob_other`, `Fjob_services`, etc.), and assign a `1` to one of them and `0` to all others.\n",
    "\n",
    "These generated columns are sometimes called _dummy variables_, and we will use the [`pandas.get_dummies()`](http://pandas.pydata.org/pandas-docs/stable/generated/pandas.get_dummies.html?highlight=get_dummies#pandas.get_dummies) function to perform this transformation."
   ]
  },
  {
   "cell_type": "code",
   "execution_count": 89,
   "metadata": {
    "collapsed": false
   },
   "outputs": [
    {
     "name": "stdout",
     "output_type": "stream",
     "text": [
      "Processed feature columns (48):-\n",
      "['school_GP', 'school_MS', 'sex_F', 'sex_M', 'age', 'address_R', 'address_U', 'famsize_GT3', 'famsize_LE3', 'Pstatus_A', 'Pstatus_T', 'Medu', 'Fedu', 'Mjob_at_home', 'Mjob_health', 'Mjob_other', 'Mjob_services', 'Mjob_teacher', 'Fjob_at_home', 'Fjob_health', 'Fjob_other', 'Fjob_services', 'Fjob_teacher', 'reason_course', 'reason_home', 'reason_other', 'reason_reputation', 'guardian_father', 'guardian_mother', 'guardian_other', 'traveltime', 'studytime', 'failures', 'schoolsup', 'famsup', 'paid', 'activities', 'nursery', 'higher', 'internet', 'romantic', 'famrel', 'freetime', 'goout', 'Dalc', 'Walc', 'health', 'absences']\n"
     ]
    }
   ],
   "source": [
    "# Preprocess feature columns\n",
    "def preprocess_features(X):\n",
    "    outX = pd.DataFrame(index=X.index)  # output dataframe, initially empty\n",
    "\n",
    "    # Check each column\n",
    "    for col, col_data in X.iteritems():\n",
    "        # If data type is non-numeric, try to replace all yes/no values with 1/0\n",
    "        if col_data.dtype == object:\n",
    "            col_data = col_data.replace(['yes', 'no'], [1, 0])\n",
    "        # Note: This should change the data type for yes/no columns to int\n",
    "\n",
    "        # If still non-numeric, convert to one or more dummy variables\n",
    "        if col_data.dtype == object:\n",
    "            col_data = pd.get_dummies(col_data, prefix=col)  # e.g. 'school' => 'school_GP', 'school_MS'\n",
    "\n",
    "        outX = outX.join(col_data)  # collect column(s) in output dataframe\n",
    "\n",
    "    return outX\n",
    "\n",
    "X_all = preprocess_features(X_all)\n",
    "print (\"Processed feature columns ({}):-\\n{}\".format(len(X_all.columns), list(X_all.columns)))"
   ]
  },
  {
   "cell_type": "markdown",
   "metadata": {},
   "source": [
    "### Split data into training and test sets\n",
    "\n",
    "So far, we have converted all _categorical_ features into numeric values. In this next step, we split the data (both features and corresponding labels) into training and test sets."
   ]
  },
  {
   "cell_type": "code",
   "execution_count": 90,
   "metadata": {
    "collapsed": false
   },
   "outputs": [],
   "source": [
    "from sklearn.cross_validation import train_test_split"
   ]
  },
  {
   "cell_type": "code",
   "execution_count": 93,
   "metadata": {
    "collapsed": false,
    "scrolled": true
   },
   "outputs": [
    {
     "name": "stdout",
     "output_type": "stream",
     "text": [
      "Training set: 300 samples\n",
      "Test set: 95 samples\n"
     ]
    }
   ],
   "source": [
    "# First, decide how many training vs test samples you want\n",
    "from sklearn.cross_validation import train_test_split\n",
    "num_all = student_data.shape[0]  # same as len(student_data)\n",
    "num_train = 300  # about 75% of the data\n",
    "num_test = num_all - num_train\n",
    "\n",
    "# TODO: Then, select features (X) and corresponding labels (y) for the training and test sets\n",
    "# Note: Shuffle the data or randomly select samples to avoid any bias due to ordering in the dataset\n",
    "\n",
    "X_train, X_test, y_train, y_test = train_test_split(X_all, y_all, test_size=0.24, random_state=12) \n",
    "\n",
    "print (\"Training set: {} samples\".format(X_train.shape[0]))\n",
    "print (\"Test set: {} samples\".format(X_test.shape[0]))\n",
    "# Note: If you need a validation set, extract it from within training data"
   ]
  },
  {
   "cell_type": "markdown",
   "metadata": {},
   "source": [
    "## 4. Training and Evaluating Models\n",
    "Choose 3 supervised learning models that are available in scikit-learn, and appropriate for this problem. For each model:\n",
    "\n",
    "- What is the theoretical O(n) time & space complexity in terms of input size?\n",
    "- What are the general applications of this model? What are its strengths and weaknesses?\n",
    "- Given what you know about the data so far, why did you choose this model to apply?\n",
    "- Fit this model to the training data, try to predict labels (for both training and test sets), and measure the F<sub>1</sub> score. Repeat this process with different training set sizes (100, 200, 300), keeping test set constant.\n",
    "\n",
    "Produce a table showing training time, prediction time, F<sub>1</sub> score on training set and F<sub>1</sub> score on test set, for each training set size.\n",
    "\n",
    "Note: You need to produce 3 such tables - one for each model."
   ]
  },
  {
   "cell_type": "code",
   "execution_count": 95,
   "metadata": {
    "collapsed": false
   },
   "outputs": [
    {
     "name": "stdout",
     "output_type": "stream",
     "text": [
      "Training SVC...\n",
      "Done!\n",
      "Training time (secs): 0.005\n"
     ]
    }
   ],
   "source": [
    "# Train a model\n",
    "import time\n",
    "\n",
    "def train_classifier(clf, X_train, y_train):\n",
    "    print (\"Training {}...\".format(clf.__class__.__name__))\n",
    "    start = time.time()\n",
    "    clf.fit(X_train, y_train)\n",
    "    end = time.time()\n",
    "    print (\"Done!\\nTraining time (secs): {:.3f}\".format(end - start))\n",
    "\n",
    "# TODO: Choose a model, import it and instantiate an object\n",
    "from sklearn.svm import SVC\n",
    "clf = SVC(kernel='rbf', C=1.0, random_state=0)\n",
    "\n",
    "\n",
    "# Fit model to training data\n",
    "train_classifier(clf, X_train, y_train)  # note: using entire training set here\n",
    "#print clf  # you can inspect the learned model by printing it"
   ]
  },
  {
   "cell_type": "code",
   "execution_count": 97,
   "metadata": {
    "collapsed": false
   },
   "outputs": [
    {
     "name": "stdout",
     "output_type": "stream",
     "text": [
      "Predicting labels using SVC...\n",
      "Done!\n",
      "Prediction time (secs): 0.004\n",
      "F1 score for training set: 0.8761061946902654\n"
     ]
    }
   ],
   "source": [
    "# Predict on training set and compute F1 score\n",
    "from sklearn.metrics import f1_score\n",
    "\n",
    "def predict_labels(clf, features, target):\n",
    "    print (\"Predicting labels using {}...\".format(clf.__class__.__name__))\n",
    "    start = time.time()\n",
    "    y_pred = clf.predict(features)\n",
    "    end = time.time()\n",
    "    print (\"Done!\\nPrediction time (secs): {:.3f}\".format(end - start))\n",
    "    return f1_score(target.values, y_pred, pos_label='yes')\n",
    "\n",
    "train_f1_score = predict_labels(clf, X_train, y_train)\n",
    "print (\"F1 score for training set: {}\".format(train_f1_score))"
   ]
  },
  {
   "cell_type": "code",
   "execution_count": 98,
   "metadata": {
    "collapsed": false
   },
   "outputs": [
    {
     "name": "stdout",
     "output_type": "stream",
     "text": [
      "------------------------------------------\n",
      "Training set size: 300\n",
      "Training SVC...\n",
      "Done!\n",
      "Training time (secs): 0.006\n",
      "Predicting labels using SVC...\n",
      "Done!\n",
      "Prediction time (secs): 0.004\n",
      "F1 score for training set: 0.8589473684210527\n",
      "Predicting labels using SVC...\n",
      "Done!\n",
      "Prediction time (secs): 0.002\n",
      "F1 score for test set: 0.7972972972972973\n"
     ]
    }
   ],
   "source": [
    "# Train and predict using different training set sizes\n",
    "def train_predict(clf, X_train, y_train, X_test, y_test):\n",
    "    print (\"------------------------------------------\")\n",
    "    print (\"Training set size: {}\".format(len(X_train)))\n",
    "    train_classifier(clf, X_train, y_train)\n",
    "    print (\"F1 score for training set: {}\".format(predict_labels(clf, X_train, y_train)))\n",
    "    print (\"F1 score for test set: {}\".format(predict_labels(clf, X_test, y_test)))\n",
    "\n",
    "# TODO: Run the helper function above for desired subsets of training data\n",
    "X_train, X_test, y_train, y_test = train_test_split(X_all, y_all, train_size=300, test_size=95, random_state=420) \n",
    "train_predict(clf, X_train, y_train, X_test, y_test)\n",
    "\n",
    "# Note: Keep the test set constant"
   ]
  },
  {
   "cell_type": "markdown",
   "metadata": {},
   "source": [
    "# Support Vector Machine (RBF kernel)\n",
    "\n",
    "- Core of SVM is a quadratic programming problem. Complexity of QP solver used by libsvm scales between O(Nfeatures Ndata^2) and O(Nfeatures Ndata^2)\n",
    "\n",
    "- It is used for classification, regression, and outlier detection. Heavily used in computer vision \n",
    "\n",
    "#### Strengths \n",
    "\n",
    "- It is effective in high dimensional space\n",
    "\n",
    "- Is mostly effective even when there are more features than number of data points \n",
    "\n",
    "- Since it uses only a subset of training points in the decision function its memory is efficient \n",
    "\n",
    "#### Weaknesses\n",
    "\n",
    "- They do not directly provide probability estimates but using probability=True in the code it can be computed. However it is a slow process since its calculated one-vs-rest.\n",
    "\n",
    "- Their output are distance based and so cannot be interpreted directly.\n",
    "\n",
    "I have decided to use SVM for this problem since its a state of the art classification algorithm widely used. Since SVM works better when data instances are more than the number of features. \n"
   ]
  },
  {
   "cell_type": "code",
   "execution_count": 64,
   "metadata": {
    "collapsed": false
   },
   "outputs": [
    {
     "name": "stdout",
     "output_type": "stream",
     "text": [
      "------------------------------------------\n",
      "Training set size: 100\n",
      "Training SVC...\n",
      "Done!\n",
      "Training time (secs): 0.011\n",
      "Predicting labels using SVC...\n",
      "Done!\n",
      "Prediction time (secs): 0.001\n",
      "F1 score for training set: 0.8662420382165604\n",
      "Predicting labels using SVC...\n",
      "Done!\n",
      "Prediction time (secs): 0.001\n",
      "F1 score for test set: 0.7999999999999999\n",
      "------------------------------------------\n",
      "Training set size: 200\n",
      "Training SVC...\n",
      "Done!\n",
      "Training time (secs): 0.018\n",
      "Predicting labels using SVC...\n",
      "Done!\n",
      "Prediction time (secs): 0.002\n",
      "F1 score for training set: 0.8469055374592833\n",
      "Predicting labels using SVC...\n",
      "Done!\n",
      "Prediction time (secs): 0.002\n",
      "F1 score for test set: 0.7916666666666666\n",
      "------------------------------------------\n",
      "Training set size: 300\n",
      "Training SVC...\n",
      "Done!\n",
      "Training time (secs): 0.006\n",
      "Predicting labels using SVC...\n",
      "Done!\n",
      "Prediction time (secs): 0.004\n",
      "F1 score for training set: 0.8589473684210527\n",
      "Predicting labels using SVC...\n",
      "Done!\n",
      "Prediction time (secs): 0.002\n",
      "F1 score for test set: 0.7972972972972973\n"
     ]
    }
   ],
   "source": [
    "from sklearn.svm import SVC\n",
    "clf = SVC(kernel='rbf', C=1.0, random_state=10)\n",
    "\n",
    "X_train100 = X_train[:100]\n",
    "y_train100 = y_train[:100]\n",
    "train_predict(clf, X_train100, y_train100, X_test, y_test)\n",
    "\n",
    "X_train200 = X_train[:200]\n",
    "y_train200 = y_train[:200]\n",
    "train_predict(clf, X_train200, y_train200, X_test, y_test)\n",
    "\n",
    "X_train300 = X_train[:300]\n",
    "y_train300 = y_train[:300] \n",
    "train_predict(clf, X_train300, y_train300, X_test, y_test)\n",
    "\n"
   ]
  },
  {
   "cell_type": "code",
   "execution_count": 105,
   "metadata": {
    "collapsed": false
   },
   "outputs": [
    {
     "name": "stdout",
     "output_type": "stream",
     "text": [
      "Table for SVM\n"
     ]
    },
    {
     "data": {
      "text/html": [
       "<table><tr><td>Training set size</td><td>Train time</td><td>Pred time</td><td>F1 score train</td><td>F1 score test</td></tr><tr><td>100</td><td>0.011</td><td>0.001</td><td>0.87</td><td>0.8</td></tr><tr><td>200</td><td>0.018</td><td>0.002</td><td>0.85</td><td>0.8</td></tr><tr><td>300</td><td>0.006</td><td>0.002</td><td>0.86</td><td>0.8</td></tr></table>"
      ],
      "text/plain": [
       "[['Training set size',\n",
       "  'Train time',\n",
       "  'Pred time',\n",
       "  'F1 score train',\n",
       "  'F1 score test'],\n",
       " [100, 0.011, 0.001, 0.87, 0.8],\n",
       " [200, 0.018, 0.002, 0.85, 0.8],\n",
       " [300, 0.006, 0.002, 0.86, 0.8]]"
      ]
     },
     "execution_count": 105,
     "metadata": {},
     "output_type": "execute_result"
    }
   ],
   "source": [
    "class ListTable(list):\n",
    "    def _repr_html_(self):\n",
    "        html = [\"<table>\"]\n",
    "        for row in self:\n",
    "            html.append(\"<tr>\")\n",
    "            \n",
    "            for col in row:\n",
    "                html.append(\"<td>{0}</td>\".format(col))\n",
    "            \n",
    "            html.append(\"</tr>\")\n",
    "        html.append(\"</table>\")\n",
    "        return ''.join(html)\n",
    "import random\n",
    "table = ListTable()\n",
    "table.append(['Training set size','Train time', 'Pred time', 'F1 score train', 'F1 score test'])\n",
    "\n",
    "print (\"Table for SVM\")\n",
    "table.append([100,0.011,0.001,0.87,0.8])\n",
    "table.append([200,0.018,0.002,0.85,0.80])\n",
    "table.append([300,0.006,0.002,0.86,0.80])\n",
    "table"
   ]
  },
  {
   "cell_type": "markdown",
   "metadata": {},
   "source": [
    "# AdaBoost\n",
    "\n",
    "- Complexity of AdaBoost is O(T f) where T is the number of weak learner and f is the runtime of the weak learner in use. Usually a decision tree is used as a weak learner with complexity O(n d^2) where n is the number of samples and d is feature dimension.\n",
    "\n",
    "- It is used for classification, regression, and outlier detection in text categorization and other computer vision applications \n",
    "\n",
    "#### Strengths\n",
    "\n",
    "- In some problems AdaBoost is less susceptible to the problem of overfitting than other learning algorithms\n",
    "\n",
    "- Its versatile and can be used with data that is textual, numeric, discrete etc\n",
    "\n",
    "- Feature importance can also be found with AdaBoost which is important when one wants good interpretation of the predictors and not just the prediction power of the model.  \n",
    "\n",
    "- Its fast, simple and easy to program \n",
    "\n",
    "- It can combine with any classifier to find weak hypothesis \n",
    "\n",
    "#### Weaknesses\n",
    "\n",
    "- It is sensitive to noisy data and outliers \n",
    "\n",
    "- Weak classifiers with error rate greater than 0.5 can lead to low margins and overfitting \n",
    "\n",
    "Since AdaBoost is an ensemble method which averages out the bias, reduce the variance, and unlikely to overfit I am using it for the current problem of classification  \n",
    "\n"
   ]
  },
  {
   "cell_type": "code",
   "execution_count": 106,
   "metadata": {
    "collapsed": false
   },
   "outputs": [
    {
     "name": "stdout",
     "output_type": "stream",
     "text": [
      "------------------------------------------\n",
      "Training set size: 100\n",
      "Training AdaBoostClassifier...\n",
      "Done!\n",
      "Training time (secs): 0.092\n",
      "Predicting labels using AdaBoostClassifier...\n",
      "Done!\n",
      "Prediction time (secs): 0.009\n",
      "F1 score for training set: 0.9855072463768115\n",
      "Predicting labels using AdaBoostClassifier...\n",
      "Done!\n",
      "Prediction time (secs): 0.009\n",
      "F1 score for test set: 0.7716535433070867\n",
      "------------------------------------------\n",
      "Training set size: 200\n",
      "Training AdaBoostClassifier...\n",
      "Done!\n",
      "Training time (secs): 0.100\n",
      "Predicting labels using AdaBoostClassifier...\n",
      "Done!\n",
      "Prediction time (secs): 0.010\n",
      "F1 score for training set: 0.8644688644688645\n",
      "Predicting labels using AdaBoostClassifier...\n",
      "Done!\n",
      "Prediction time (secs): 0.011\n",
      "F1 score for test set: 0.7716535433070867\n",
      "------------------------------------------\n",
      "Training set size: 300\n",
      "Training AdaBoostClassifier...\n",
      "Done!\n",
      "Training time (secs): 0.112\n",
      "Predicting labels using AdaBoostClassifier...\n",
      "Done!\n",
      "Prediction time (secs): 0.012\n",
      "F1 score for training set: 0.8691588785046729\n",
      "Predicting labels using AdaBoostClassifier...\n",
      "Done!\n",
      "Prediction time (secs): 0.009\n",
      "F1 score for test set: 0.7368421052631579\n"
     ]
    }
   ],
   "source": [
    "from sklearn.ensemble import AdaBoostClassifier\n",
    "clf = AdaBoostClassifier(n_estimators=100, random_state=20)\n",
    "\n",
    "X_train100 = X_train[:100]\n",
    "y_train100 = y_train[:100]\n",
    "train_predict(clf, X_train100, y_train100, X_test, y_test)\n",
    "\n",
    "X_train200 = X_train[:200]\n",
    "y_train200 = y_train[:200]\n",
    "train_predict(clf, X_train200, y_train200, X_test, y_test)\n",
    "\n",
    "X_train300 = X_train[:300]\n",
    "y_train300 = y_train[:300] \n",
    "train_predict(clf, X_train300, y_train300, X_test, y_test)\n",
    "\n"
   ]
  },
  {
   "cell_type": "code",
   "execution_count": 107,
   "metadata": {
    "collapsed": false
   },
   "outputs": [
    {
     "name": "stdout",
     "output_type": "stream",
     "text": [
      "Table for AdaBoost\n"
     ]
    },
    {
     "data": {
      "text/html": [
       "<table><tr><td>Training set size</td><td>Train time</td><td>Pred time</td><td>F1 score train</td><td>F1 score test</td></tr><tr><td>100</td><td>0.092</td><td>0.009</td><td>0.986</td><td>0.77</td></tr><tr><td>200</td><td>0.1</td><td>0.011</td><td>0.86</td><td>0.77</td></tr><tr><td>300</td><td>0.112</td><td>0.009</td><td>0.87</td><td>0.74</td></tr></table>"
      ],
      "text/plain": [
       "[['Training set size',\n",
       "  'Train time',\n",
       "  'Pred time',\n",
       "  'F1 score train',\n",
       "  'F1 score test'],\n",
       " [100, 0.092, 0.009, 0.986, 0.77],\n",
       " [200, 0.1, 0.011, 0.86, 0.77],\n",
       " [300, 0.112, 0.009, 0.87, 0.74]]"
      ]
     },
     "execution_count": 107,
     "metadata": {},
     "output_type": "execute_result"
    }
   ],
   "source": [
    "import random\n",
    "table = ListTable()\n",
    "table.append(['Training set size','Train time', 'Pred time', 'F1 score train', 'F1 score test'])\n",
    "\n",
    "print (\"Table for AdaBoost\")\n",
    "table.append([100,0.092,0.009,0.986,0.77])\n",
    "table.append([200,0.1,0.011,0.86,0.77])\n",
    "table.append([300,0.112,0.009,0.87,0.74])\n",
    "table"
   ]
  },
  {
   "cell_type": "markdown",
   "metadata": {},
   "source": [
    "# Naive Bayes (BernoulliNB)\n",
    "\n",
    "- Naive Bayes has a complexity of O(n d) where n is the number of samples and d is number of features \n",
    "\n",
    "- It is heavily used for classification in areas such as text classification and spam filtering \n",
    "\n",
    "#### Strenghts \n",
    "\n",
    "- Inspite of over-simplification naive bayes classifier work well in many real world situations \n",
    "\n",
    "- They require small amount of training data to estimate the necessary parameters \n",
    "\n",
    "- It is extremely fast compared to more sophisticated methods \n",
    "\n",
    "#### Weaknesses \n",
    "\n",
    "- Assumes independence of features\n",
    "\n",
    "Naive bayes has the assumption of independent features and looking at student_data its safe to assume that many features are independent.   "
   ]
  },
  {
   "cell_type": "code",
   "execution_count": 108,
   "metadata": {
    "collapsed": false
   },
   "outputs": [
    {
     "name": "stdout",
     "output_type": "stream",
     "text": [
      "------------------------------------------\n",
      "Training set size: 100\n",
      "Training BernoulliNB...\n",
      "Done!\n",
      "Training time (secs): 0.001\n",
      "Predicting labels using BernoulliNB...\n",
      "Done!\n",
      "Prediction time (secs): 0.001\n",
      "F1 score for training set: 0.8201438848920864\n",
      "Predicting labels using BernoulliNB...\n",
      "Done!\n",
      "Prediction time (secs): 0.001\n",
      "F1 score for test set: 0.7424242424242424\n",
      "------------------------------------------\n",
      "Training set size: 200\n",
      "Training BernoulliNB...\n",
      "Done!\n",
      "Training time (secs): 0.016\n",
      "Predicting labels using BernoulliNB...\n",
      "Done!\n",
      "Prediction time (secs): 0.003\n",
      "F1 score for training set: 0.7889273356401384\n",
      "Predicting labels using BernoulliNB...\n",
      "Done!\n",
      "Prediction time (secs): 0.000\n",
      "F1 score for test set: 0.7727272727272727\n",
      "------------------------------------------\n",
      "Training set size: 300\n",
      "Training BernoulliNB...\n",
      "Done!\n",
      "Training time (secs): 0.005\n",
      "Predicting labels using BernoulliNB...\n",
      "Done!\n",
      "Prediction time (secs): 0.005\n",
      "F1 score for training set: 0.8154897494305239\n",
      "Predicting labels using BernoulliNB...\n",
      "Done!\n",
      "Prediction time (secs): 0.000\n",
      "F1 score for test set: 0.7559055118110236\n"
     ]
    }
   ],
   "source": [
    "from sklearn.naive_bayes import BernoulliNB\n",
    "clf = BernoulliNB()\n",
    "\n",
    "X_train100 = X_train[:100]\n",
    "y_train100 = y_train[:100]\n",
    "train_predict(clf, X_train100, y_train100, X_test, y_test)\n",
    "\n",
    "X_train200 = X_train[:200]\n",
    "y_train200 = y_train[:200]\n",
    "train_predict(clf, X_train200, y_train200, X_test, y_test)\n",
    "\n",
    "X_train300 = X_train[:300]\n",
    "y_train300 = y_train[:300] \n",
    "train_predict(clf, X_train300, y_train300, X_test, y_test)\n",
    "\n"
   ]
  },
  {
   "cell_type": "code",
   "execution_count": 109,
   "metadata": {
    "collapsed": false
   },
   "outputs": [
    {
     "name": "stdout",
     "output_type": "stream",
     "text": [
      "Table for Naive Bayes\n"
     ]
    },
    {
     "data": {
      "text/html": [
       "<table><tr><td>Training set size</td><td>Train time</td><td>Pred time</td><td>F1 score train</td><td>F1 score test</td></tr><tr><td>100</td><td>0.01</td><td>0.01</td><td>0.82</td><td>0.74</td></tr><tr><td>200</td><td>0.016</td><td>0.0</td><td>0.79</td><td>0.77</td></tr><tr><td>300</td><td>0.005</td><td>0.0</td><td>0.815</td><td>0.76</td></tr></table>"
      ],
      "text/plain": [
       "[['Training set size',\n",
       "  'Train time',\n",
       "  'Pred time',\n",
       "  'F1 score train',\n",
       "  'F1 score test'],\n",
       " [100, 0.01, 0.01, 0.82, 0.74],\n",
       " [200, 0.016, 0.0, 0.79, 0.77],\n",
       " [300, 0.005, 0.0, 0.815, 0.76]]"
      ]
     },
     "execution_count": 109,
     "metadata": {},
     "output_type": "execute_result"
    }
   ],
   "source": [
    "import random\n",
    "table = ListTable()\n",
    "table.append(['Training set size','Train time', 'Pred time', 'F1 score train', 'F1 score test'])\n",
    "\n",
    "print (\"Table for Naive Bayes\")\n",
    "table.append([100,0.01,0.01,0.82,0.74])\n",
    "table.append([200,0.016,0.0,0.79,0.77])\n",
    "table.append([300,0.005,0.0,0.815,0.76])\n",
    "table"
   ]
  },
  {
   "cell_type": "markdown",
   "metadata": {},
   "source": [
    "## 5. Choosing the Best Model\n",
    "\n",
    "- Based on the experiments you performed earlier, in 1-2 paragraphs explain to the board of supervisors what single model you chose as the best model. Which model is generally the most appropriate based on the available data, limited resources, cost, and performance?\n",
    "- In 1-2 paragraphs explain to the board of supervisors in layman's terms how the final model chosen is supposed to work (for example if you chose a Decision Tree or Support Vector Machine, how does it make a prediction).\n",
    "- Fine-tune the model. Use Gridsearch with at least one important parameter tuned and with at least 3 settings. Use the entire training set for this.\n",
    "- What is the model's final F<sub>1</sub> score?"
   ]
  },
  {
   "cell_type": "code",
   "execution_count": 110,
   "metadata": {
    "collapsed": false
   },
   "outputs": [
    {
     "name": "stdout",
     "output_type": "stream",
     "text": [
      "GridSearchCV(cv=None, error_score='raise',\n",
      "       estimator=SVC(C=1.0, cache_size=200, class_weight=None, coef0=0.0,\n",
      "  decision_function_shape=None, degree=3, gamma='auto', kernel='rbf',\n",
      "  max_iter=-1, probability=False, random_state=0, shrinking=True,\n",
      "  tol=0.001, verbose=False),\n",
      "       fit_params={}, iid=True, n_jobs=1,\n",
      "       param_grid=[{'C': [1, 10, 100, 1000], 'kernel': ['linear']}, {'C': [1, 10, 100, 1000], 'kernel': ['rbf'], 'gamma': [0.001, 0.0001]}],\n",
      "       pre_dispatch='2*n_jobs', refit=True,\n",
      "       scoring=make_scorer(f1_score, pos_label=yes), verbose=0)\n",
      "100\n"
     ]
    }
   ],
   "source": [
    "# TODO: Fine-tune your model and report the best F1 score\n",
    "from sklearn.grid_search import GridSearchCV\n",
    "parameters = {'C':[1.0,2.0,3.0,4.0,5.0,10.0]}\n",
    "param_grid = [\n",
    "  {'C': [1, 10, 100, 1000], 'kernel': ['linear']},\n",
    "  {'C': [1, 10, 100, 1000], 'gamma': [0.001, 0.0001], 'kernel': ['rbf']},\n",
    " ]\n",
    "\n",
    "from sklearn.svm import SVC\n",
    "clf = SVC(kernel='rbf', random_state=0)\n",
    "\n",
    "from sklearn.metrics import f1_score\n",
    "from sklearn.metrics import make_scorer\n",
    "\n",
    "f1_scorer = make_scorer(f1_score, pos_label=\"yes\")\n",
    "\n",
    "grid=GridSearchCV(estimator = clf, param_grid=param_grid, scoring=f1_scorer)\n",
    "grid.fit(X_train, y_train)\n",
    "print(grid)\n",
    "print(grid.best_estimator_.C)\n",
    "\n"
   ]
  },
  {
   "cell_type": "code",
   "execution_count": 112,
   "metadata": {
    "collapsed": false
   },
   "outputs": [
    {
     "name": "stdout",
     "output_type": "stream",
     "text": [
      "0.0001\n"
     ]
    }
   ],
   "source": [
    "print(grid.best_estimator_.gamma)\n"
   ]
  },
  {
   "cell_type": "code",
   "execution_count": 114,
   "metadata": {
    "collapsed": false
   },
   "outputs": [
    {
     "name": "stdout",
     "output_type": "stream",
     "text": [
      "------------------------------------------\n",
      "Training set size: 300\n",
      "Training GridSearchCV...\n",
      "Done!\n",
      "Training time (secs): 52.061\n",
      "Predicting labels using GridSearchCV...\n",
      "Done!\n",
      "Prediction time (secs): 0.004\n",
      "F1 score for training set: 0.8204081632653061\n",
      "Predicting labels using GridSearchCV...\n",
      "Done!\n",
      "Prediction time (secs): 0.002\n",
      "F1 score for test set: 0.8163265306122448\n"
     ]
    }
   ],
   "source": [
    "train_predict(grid,X_train,y_train,X_test,y_test) "
   ]
  },
  {
   "cell_type": "code",
   "execution_count": 73,
   "metadata": {
    "collapsed": false
   },
   "outputs": [
    {
     "data": {
      "image/png": "[encoded data removed]",
      "text/plain": [
       "<IPython.core.display.Image object>"
      ]
     },
     "execution_count": 73,
     "metadata": {},
     "output_type": "execute_result"
    }
   ],
   "source": [
    "from IPython.display import Image\n",
    "Image(filename='images.png')\n"
   ]
  },
  {
   "cell_type": "code",
   "execution_count": 72,
   "metadata": {
    "collapsed": false
   },
   "outputs": [
    {
     "data": {
      "image/jpeg": "[encoded data removed]",
      "text/plain": [
       "<IPython.core.display.Image object>"
      ]
     },
     "execution_count": 72,
     "metadata": {},
     "output_type": "execute_result"
    }
   ],
   "source": [
    "Image(filename='svm.jpg')"
   ]
  },
  {
   "cell_type": "markdown",
   "metadata": {},
   "source": [
    "I have implemented three supervised learning models namely Support vector machines, Adaptive boosting, and Naive Bayes (BernoulliNB) to predict those students who may need early intervention. After considering training time, prediction time and F1 score on the test dataset I choose SVM as the single best model to predict those students who needs early intervention. \n",
    "\n",
    "SVM gives the best F1 score on the test dataset for all the three training sample size (100,200, and 300). The training time for SVM is also low as compared to AdaBoost and almost comparable to Naive bayes. \n",
    "\n",
    "For our problem given the data and limited resources SVM with rbf kernel gives the best performance in terms of prediction power.\n",
    "\n",
    "### Support Vector Machines: \n",
    "\n",
    "SVM more accurately called support vector classifier is a discriminative ML model that seperates training data into two classes such that they are maximally apart as shown in the figures above. Its also know as maximum margin classifier for the same reason. If the data is linearly seperable then an optimal line (hyperplane for higher dimensions) is drawn between the two classes to seperate them. If they are not linearly seperable then a kernel function is used to transform the data in a higher plane where it is linearly seperable. \n",
    "\n",
    "Once the parameters of this hyper plane are computed it is used to classify new data points. The output of training a SVM model is an equation of a hyperplane seprating the classes. Predictions on new input data is computed by using the equation of hyperplane. Based on this computed value, using an optimal threshold, decision is made whether this new student needs interventon or not.\n",
    "\n",
    "After fine tuning SVM for entire dataset using grid search for the hyper parameter 'C', 'kernel', and 'gamma', F1 score on this training set is 0.816 which is better than 0.8 of the untuned svm model.  \n",
    "\n"
   ]
  }
 ],
 "metadata": {
  "kernelspec": {
   "display_name": "Python 3",
   "language": "python",
   "name": "python3"
  },
  "language_info": {
   "codemirror_mode": {
    "name": "ipython",
    "version": 3
   },
   "file_extension": ".py",
   "mimetype": "text/x-python",
   "name": "python",
   "nbconvert_exporter": "python",
   "pygments_lexer": "ipython3",
   "version": "3.5.1"
  }
 },
 "nbformat": 4,
 "nbformat_minor": 0
}
